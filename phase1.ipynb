{
  "cells": [
    {
      "cell_type": "code",
      "execution_count": 1,
      "metadata": {
        "id": "J1wlcui9QCKS"
      },
      "outputs": [],
      "source": [
        "import cv2\n",
        "import matplotlib.pyplot as plt\n",
        "import numpy as np\n",
        "import os\n"
      ]
    },
    {
      "cell_type": "code",
      "source": [
        "from google.colab import drive\n",
        "drive.mount('/content/drive')"
      ],
      "metadata": {
        "colab": {
          "base_uri": "https://localhost:8080/"
        },
        "id": "dix6G6PCRYbP",
        "outputId": "c2dc5c04-c318-47d1-91b1-06e10b76d845"
      },
      "execution_count": 2,
      "outputs": [
        {
          "output_type": "stream",
          "name": "stdout",
          "text": [
            "Drive already mounted at /content/drive; to attempt to forcibly remount, call drive.mount(\"/content/drive\", force_remount=True).\n"
          ]
        }
      ]
    },
    {
      "cell_type": "code",
      "execution_count": 3,
      "metadata": {
        "id": "9YAh52sCQCKS"
      },
      "outputs": [],
      "source": [
        "# Define the path to the _Output directory\n",
        "input_directory = \"/content/drive/MyDrive/PlantClass/_Output\"\n",
        "\n",
        "# Initialize the images array\n",
        "images = []\n",
        "\n",
        "# Iterate through each folder in the _Output directory\n",
        "for folder_name in os.listdir(input_directory):\n",
        "    folder_path = os.path.join(input_directory, folder_name)\n",
        "\n",
        "    # Ensure it's a directory\n",
        "    if os.path.isdir(folder_path):\n",
        "        # List to hold images for this folder\n",
        "        folder_images = []\n",
        "\n",
        "        # Iterate through each file in the folder\n",
        "        for file in os.listdir(folder_path):\n",
        "            file_path = os.path.join(folder_path, file)\n",
        "\n",
        "            # Check if the file is an image (we'll assume all files are images)\n",
        "            if os.path.isfile(file_path):\n",
        "                # Read the image in grayscale\n",
        "                image = cv2.imread(file_path, cv2.IMREAD_GRAYSCALE)\n",
        "\n",
        "                # Add the image to the list if it's successfully read\n",
        "                if image is not None:\n",
        "                    folder_images.append({\n",
        "                        \"image_name\": file,\n",
        "                        \"image\": image\n",
        "                    })\n",
        "\n",
        "        # If the folder contains images, append the folder object to the images array\n",
        "        if folder_images:\n",
        "            images.append({\n",
        "                \"folder_name\": folder_name,\n",
        "                \"images\": folder_images\n",
        "            })\n",
        "\n",
        "# Output the result\n",
        "# print(images)\n",
        "\n",
        "\n",
        "# debugging\n",
        "# image = cv2.imread('_Output/Mango_(P0)/0001_0003.JPG', cv2.IMREAD_GRAYSCALE)\n"
      ]
    },
    {
      "cell_type": "code",
      "execution_count": 4,
      "metadata": {
        "id": "Zk7LhoijQCKS"
      },
      "outputs": [],
      "source": [
        "def contrast_adjustment(image):\n",
        "    # Step 1: Normalize the image to range 0-255\n",
        "    normalized_image = cv2.normalize(image, None, 0, 255, cv2.NORM_MINMAX)\n",
        "\n",
        "    # Step 2: Apply CLAHE (Contrast Limited Adaptive Histogram Equalization)\n",
        "    clahe = cv2.createCLAHE(clipLimit=2.0, tileGridSize=(5, 5))  # Clip limit and grid size can be tuned\n",
        "    enhanced_image = clahe.apply(normalized_image)\n",
        "\n",
        "    # # Step 3: Optional - Adjust global contrast using scaling\n",
        "    alpha = 1.3 # Contrast control (>1 increases contrast, <1 decreases it)\n",
        "    beta = 1   # Brightness control (positive increases brightness)\n",
        "    contrast_adjusted_image = cv2.convertScaleAbs(enhanced_image, alpha=alpha, beta=beta)\n",
        "\n",
        "    # DEBUG\n",
        "    # cv2.imshow('Original Image', image)\n",
        "    # cv2.imshow('Normalized Image', normalized_image)\n",
        "    # cv2.imshow('CLAHE Enhanced Image', enhanced_image)\n",
        "    # cv2.imshow('Final Contrast Adjusted Image', contrast_adjusted_image)\n",
        "    # cv2.waitKey(0)\n",
        "    # cv2.destroyAllWindows()\n",
        "\n",
        "    return contrast_adjusted_image\n"
      ]
    },
    {
      "cell_type": "code",
      "execution_count": 5,
      "metadata": {
        "id": "tBz8VjAQQCKS"
      },
      "outputs": [],
      "source": [
        "def noise_reduction(image):\n",
        "    modified_image = cv2.medianBlur(image, 7)\n",
        "\n",
        "    # DEBUG\n",
        "    # cv2.imshow('Blurred', modified_image)\n",
        "    # cv2.waitKey(0)\n",
        "    # cv2.destroyAllWindows()\n",
        "    return modified_image\n"
      ]
    },
    {
      "cell_type": "code",
      "execution_count": 6,
      "metadata": {
        "id": "W8fwYRD1QCKj"
      },
      "outputs": [],
      "source": [
        "# import cv2\n",
        "# import numpy as np\n",
        "\n",
        "def segmentation(image):\n",
        "    # Step 1: Edge detection\n",
        "    edges = cv2.Canny(image, 50, 120)\n",
        "\n",
        "    # Step 2: Connect fragmented edges using dilation and closing\n",
        "    kernel = np.ones((5, 5), np.uint8)  # Increase kernel size for better connection\n",
        "    dilated_edges = cv2.dilate(edges, kernel, iterations=3)  # Increase dilation iterations\n",
        "    closed_edges = cv2.morphologyEx(dilated_edges, cv2.MORPH_CLOSE, kernel, iterations=3)  # More closing iterations\n",
        "\n",
        "    # Step 3: Detect contours from connected edges\n",
        "    contours, _ = cv2.findContours(closed_edges, cv2.RETR_EXTERNAL, cv2.CHAIN_APPROX_SIMPLE)\n",
        "\n",
        "    # Step 4: Create a mask for the connected regions\n",
        "    mask = np.zeros_like(image, dtype=np.uint8)\n",
        "    for contour in contours:\n",
        "        # Optional: Filter small contours\n",
        "        if cv2.contourArea(contour) > 500:  # Adjust minimum area as needed\n",
        "            cv2.drawContours(mask, [contour], -1, 255, thickness=cv2.FILLED)\n",
        "\n",
        "    # Step 5: Segment the inner object using the mask\n",
        "    _, binary_image = cv2.threshold(image, 140, 255, cv2.THRESH_BINARY)\n",
        "    segmented = cv2.bitwise_and(binary_image, binary_image, mask=mask)\n",
        "\n",
        "    # DEBUG\n",
        "    # cv2.imshow('Original Image', image)\n",
        "    # cv2.imshow('Edges', edges)\n",
        "    # # cv2.imshow('Dilated and Closed Edges', closed_edges)\n",
        "    # cv2.imshow('Connected Regions Mask', mask)\n",
        "    # cv2.imshow('Segmented Inner Object', segmented)\n",
        "    # cv2.waitKey(0)\n",
        "    # cv2.destroyAllWindows()\n",
        "\n",
        "    return segmented\n"
      ]
    },
    {
      "cell_type": "code",
      "execution_count": 7,
      "metadata": {
        "id": "knPxJmMVQCKj"
      },
      "outputs": [],
      "source": [
        "def improvement(image):\n",
        "    # Create a circular kernel\n",
        "    kernel_size = 3  # Adjust the size as needed\n",
        "    kernel = cv2.getStructuringElement(cv2.MORPH_ELLIPSE, (kernel_size, kernel_size))\n",
        "\n",
        "    # Apply morphological opening\n",
        "    opened_image = cv2.morphologyEx(image, cv2.MORPH_OPEN, kernel, iterations=4)\n",
        "\n",
        "    # Step 1: Find contours\n",
        "    contours, _ = cv2.findContours(opened_image, cv2.RETR_EXTERNAL, cv2.CHAIN_APPROX_SIMPLE)\n",
        "\n",
        "    # Step 2: Create a mask to filter regions based on position\n",
        "    mask = np.zeros_like(image)\n",
        "    height, width = image.shape\n",
        "    for contour in contours:\n",
        "        x, y, w, h = cv2.boundingRect(contour)\n",
        "\n",
        "        # Filter contours based on position (e.g., ignore regions in the top 30% of the image)\n",
        "        if y > height * 0.1 and cv2.contourArea(contour) > 1000:  # Adjust area threshold\n",
        "            cv2.drawContours(mask, [contour], -1, 255, thickness=cv2.FILLED)\n",
        "\n",
        "    # Step 3: Apply the mask to keep only the filtered regions\n",
        "    cleaned_image = cv2.bitwise_and(image, mask)\n",
        "\n",
        "    return cleaned_image\n"
      ]
    },
    {
      "cell_type": "code",
      "source": [
        "img = cv2.imread('/content/drive/MyDrive/PlantClass/_Output/Mango_(P0)/0001_0003.JPG', cv2.IMREAD_GRAYSCALE)\n",
        "\n",
        "img = noise_reduction(img)\n",
        "img = contrast_adjustment(img)\n",
        "img = segmentation(img)\n",
        "img = improvement(img)\n",
        "\n",
        "plt.imshow(img, cmap='gray')\n",
        "plt.axis('off')\n",
        "plt.show()"
      ],
      "metadata": {
        "id": "7ShqpaVGt3Sg",
        "outputId": "ab578702-55ee-4e96-a30b-4d6a2ef52e92",
        "colab": {
          "base_uri": "https://localhost:8080/",
          "height": 367
        }
      },
      "execution_count": 8,
      "outputs": [
        {
          "output_type": "display_data",
          "data": {
            "text/plain": [
              "<Figure size 640x480 with 1 Axes>"
            ],
            "image/png": "[encoded data removed]"
          },
          "metadata": {}
        }
      ]
    },
    {
      "cell_type": "code",
      "execution_count": 9,
      "metadata": {
        "colab": {
          "base_uri": "https://localhost:8080/"
        },
        "id": "DUpT4qLxQCKj",
        "outputId": "5d3dac89-b16c-4554-b9e0-4f5901cef7b6"
      },
      "outputs": [
        {
          "output_type": "stream",
          "name": "stdout",
          "text": [
            "Average Jaccard Index: 0.7473029531912573\n"
          ]
        }
      ],
      "source": [
        "# Assuming images is the list of folder objects\n",
        "truth_directory = \"/content/drive/MyDrive/PlantClass/_Ground_Truth/_GroundTruth\"  # Path to the ground truth images\n",
        "output_directory = \"segmented_output\"\n",
        "jaccard_scores = []  # List to store Jaccard index for each image\n",
        "\n",
        "for folder_obj in images:\n",
        "    folder_name = folder_obj['folder_name']\n",
        "    folder_images = folder_obj['images']\n",
        "\n",
        "    # Create a folder in \"segmented_output\" if it doesn't exist\n",
        "    output_folder_path = os.path.join(output_directory, folder_name)\n",
        "    os.makedirs(output_folder_path, exist_ok=True)\n",
        "\n",
        "    # Iterate through each image in the folder\n",
        "    for image_obj in folder_images:\n",
        "        image_name = image_obj['image_name']\n",
        "        image = image_obj['image']\n",
        "\n",
        "        # Apply all image processing functions in sequence\n",
        "        image = noise_reduction(image)\n",
        "        image = contrast_adjustment(image)\n",
        "        image = segmentation(image)\n",
        "        image = improvement(image)\n",
        "\n",
        "        # Save the processed image in the corresponding folder in \"segmented_output\"\n",
        "        output_image_path = os.path.join(output_folder_path, image_name)\n",
        "        cv2.imwrite(output_image_path, image)\n",
        "\n",
        "        # Load the corresponding ground truth image\n",
        "        ground_truth_path = os.path.join(truth_directory, folder_name, image_name)\n",
        "        ground_truth = cv2.imread(ground_truth_path, cv2.IMREAD_GRAYSCALE)\n",
        "\n",
        "        # Ensure ground truth image is binary (0 or 255)\n",
        "        _, ground_truth_binary = cv2.threshold(ground_truth, 127, 255, cv2.THRESH_BINARY)\n",
        "\n",
        "        # Ensure processed image is binary (0 or 255)\n",
        "        _, processed_binary = cv2.threshold(image, 127, 255, cv2.THRESH_BINARY)\n",
        "\n",
        "        # Calculate Jaccard index\n",
        "        intersection = np.sum((ground_truth_binary == 255) & (processed_binary == 255))  # Common positive pixels\n",
        "        union = np.sum((ground_truth_binary == 255) | (processed_binary == 255))  # All positive pixels\n",
        "\n",
        "        jaccard_index = intersection / float(union) if union != 0 else 0  # Avoid division by zero\n",
        "        jaccard_scores.append(jaccard_index)\n",
        "\n",
        "# Calculate average Jaccard index\n",
        "average_jaccard_index = np.mean(jaccard_scores) if jaccard_scores else 0\n",
        "\n",
        "# Print the average Jaccard index\n",
        "print(f'Average Jaccard Index: {average_jaccard_index}')\n",
        "\n",
        "# Debugging\n",
        "# image = contrast_adjustment(image)\n",
        "# image = noise_reduction(image)\n",
        "# image = segmentation(image)\n",
        "# image = improvement(image)\n",
        "# cv2.imshow('after all', image)\n",
        "# cv2.waitKey(0)\n",
        "# cv2.destroyAllWindows()\n",
        "\n"
      ]
    }
  ],
  "metadata": {
    "kernelspec": {
      "display_name": "myenv",
      "language": "python",
      "name": "python3"
    },
    "language_info": {
      "codemirror_mode": {
        "name": "ipython",
        "version": 3
      },
      "file_extension": ".py",
      "mimetype": "text/x-python",
      "name": "python",
      "nbconvert_exporter": "python",
      "pygments_lexer": "ipython3",
      "version": "3.12.6"
    },
    "colab": {
      "provenance": []
    }
  },
  "nbformat": 4,
  "nbformat_minor": 0
}